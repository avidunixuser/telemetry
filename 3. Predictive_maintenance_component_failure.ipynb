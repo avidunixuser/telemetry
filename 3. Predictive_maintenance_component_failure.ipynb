{
 "cells": [
  {
   "cell_type": "code",
   "execution_count": 1,
   "metadata": {
    "executionInfo": {
     "elapsed": 646,
     "status": "ok",
     "timestamp": 1658205443716,
     "user": {
      "displayName": "Nitin Pathak",
      "userId": "10038392480058271538"
     },
     "user_tz": 420
    },
    "id": "UkgMH8V2DhrW"
   },
   "outputs": [],
   "source": [
    "import pandas as pd\n",
    "import numpy as np"
   ]
  },
  {
   "cell_type": "code",
   "execution_count": 2,
   "metadata": {
    "executionInfo": {
     "elapsed": 3998,
     "status": "ok",
     "timestamp": 1658205468434,
     "user": {
      "displayName": "Nitin Pathak",
      "userId": "10038392480058271538"
     },
     "user_tz": 420
    },
    "id": "1Qv9FlOWDoEX"
   },
   "outputs": [],
   "source": [
    "#impoot files\n",
    "machines = pd.read_csv('data/machines.csv')\n",
    "errors = pd.read_csv('data/errors.csv')\n",
    "failures = pd.read_csv('data/failures.csv')\n",
    "data = pd.read_csv('data/telemetry.csv')\n",
    "maintenances = pd.read_csv('data/maint.csv')"
   ]
  },
  {
   "cell_type": "code",
   "execution_count": 3,
   "metadata": {
    "executionInfo": {
     "elapsed": 20,
     "status": "ok",
     "timestamp": 1658205468435,
     "user": {
      "displayName": "Nitin Pathak",
      "userId": "10038392480058271538"
     },
     "user_tz": 420
    },
    "id": "RjVNKosGDqOx"
   },
   "outputs": [],
   "source": [
    "one_hot = pd.get_dummies(failures['failure'])\n",
    "failures = failures.join(one_hot)"
   ]
  },
  {
   "cell_type": "code",
   "execution_count": 4,
   "metadata": {
    "colab": {
     "base_uri": "https://localhost:8080/",
     "height": 424
    },
    "executionInfo": {
     "elapsed": 18,
     "status": "ok",
     "timestamp": 1658205468436,
     "user": {
      "displayName": "Nitin Pathak",
      "userId": "10038392480058271538"
     },
     "user_tz": 420
    },
    "id": "N3Hr4ZtjE92d",
    "outputId": "ba88b4d1-6fef-41a9-e56f-3338f3b8bdf4"
   },
   "outputs": [
    {
     "data": {
      "text/html": [
       "<div>\n",
       "<style scoped>\n",
       "    .dataframe tbody tr th:only-of-type {\n",
       "        vertical-align: middle;\n",
       "    }\n",
       "\n",
       "    .dataframe tbody tr th {\n",
       "        vertical-align: top;\n",
       "    }\n",
       "\n",
       "    .dataframe thead th {\n",
       "        text-align: right;\n",
       "    }\n",
       "</style>\n",
       "<table border=\"1\" class=\"dataframe\">\n",
       "  <thead>\n",
       "    <tr style=\"text-align: right;\">\n",
       "      <th></th>\n",
       "      <th>datetime</th>\n",
       "      <th>machineID</th>\n",
       "      <th>comp</th>\n",
       "    </tr>\n",
       "  </thead>\n",
       "  <tbody>\n",
       "    <tr>\n",
       "      <th>0</th>\n",
       "      <td>2014-06-01 06:00:00</td>\n",
       "      <td>1</td>\n",
       "      <td>comp2</td>\n",
       "    </tr>\n",
       "    <tr>\n",
       "      <th>1</th>\n",
       "      <td>2014-07-16 06:00:00</td>\n",
       "      <td>1</td>\n",
       "      <td>comp4</td>\n",
       "    </tr>\n",
       "    <tr>\n",
       "      <th>2</th>\n",
       "      <td>2014-07-31 06:00:00</td>\n",
       "      <td>1</td>\n",
       "      <td>comp3</td>\n",
       "    </tr>\n",
       "    <tr>\n",
       "      <th>3</th>\n",
       "      <td>2014-12-13 06:00:00</td>\n",
       "      <td>1</td>\n",
       "      <td>comp1</td>\n",
       "    </tr>\n",
       "    <tr>\n",
       "      <th>4</th>\n",
       "      <td>2015-01-05 06:00:00</td>\n",
       "      <td>1</td>\n",
       "      <td>comp4</td>\n",
       "    </tr>\n",
       "    <tr>\n",
       "      <th>...</th>\n",
       "      <td>...</td>\n",
       "      <td>...</td>\n",
       "      <td>...</td>\n",
       "    </tr>\n",
       "    <tr>\n",
       "      <th>3281</th>\n",
       "      <td>2015-10-10 06:00:00</td>\n",
       "      <td>100</td>\n",
       "      <td>comp3</td>\n",
       "    </tr>\n",
       "    <tr>\n",
       "      <th>3282</th>\n",
       "      <td>2015-10-25 06:00:00</td>\n",
       "      <td>100</td>\n",
       "      <td>comp4</td>\n",
       "    </tr>\n",
       "    <tr>\n",
       "      <th>3283</th>\n",
       "      <td>2015-11-09 06:00:00</td>\n",
       "      <td>100</td>\n",
       "      <td>comp4</td>\n",
       "    </tr>\n",
       "    <tr>\n",
       "      <th>3284</th>\n",
       "      <td>2015-12-09 06:00:00</td>\n",
       "      <td>100</td>\n",
       "      <td>comp2</td>\n",
       "    </tr>\n",
       "    <tr>\n",
       "      <th>3285</th>\n",
       "      <td>2015-12-24 06:00:00</td>\n",
       "      <td>100</td>\n",
       "      <td>comp2</td>\n",
       "    </tr>\n",
       "  </tbody>\n",
       "</table>\n",
       "<p>3286 rows × 3 columns</p>\n",
       "</div>"
      ],
      "text/plain": [
       "                 datetime  machineID   comp\n",
       "0     2014-06-01 06:00:00          1  comp2\n",
       "1     2014-07-16 06:00:00          1  comp4\n",
       "2     2014-07-31 06:00:00          1  comp3\n",
       "3     2014-12-13 06:00:00          1  comp1\n",
       "4     2015-01-05 06:00:00          1  comp4\n",
       "...                   ...        ...    ...\n",
       "3281  2015-10-10 06:00:00        100  comp3\n",
       "3282  2015-10-25 06:00:00        100  comp4\n",
       "3283  2015-11-09 06:00:00        100  comp4\n",
       "3284  2015-12-09 06:00:00        100  comp2\n",
       "3285  2015-12-24 06:00:00        100  comp2\n",
       "\n",
       "[3286 rows x 3 columns]"
      ]
     },
     "execution_count": 4,
     "metadata": {},
     "output_type": "execute_result"
    }
   ],
   "source": [
    "one_hot = pd.get_dummies(errors['errorID'])\n",
    "errors = errors.join(one_hot)\n",
    "maintenances"
   ]
  },
  {
   "cell_type": "code",
   "execution_count": 5,
   "metadata": {
    "executionInfo": {
     "elapsed": 14,
     "status": "ok",
     "timestamp": 1658205468437,
     "user": {
      "displayName": "Nitin Pathak",
      "userId": "10038392480058271538"
     },
     "user_tz": 420
    },
    "id": "TSvEUH5hGqSD"
   },
   "outputs": [],
   "source": [
    "maintenances.loc[maintenances.comp == \"comp1\", \"comp\"] = \"maintComp1\"\n",
    "maintenances.loc[maintenances.comp == \"comp2\", \"comp\"] = \"maintComp2\"\n",
    "maintenances.loc[maintenances.comp == \"comp3\", \"comp\"] = \"maintComp3\"\n",
    "maintenances.loc[maintenances.comp == \"comp4\", \"comp\"] = \"maintComp4\"\n",
    "one_hot = pd.get_dummies(maintenances['comp'])\n",
    "maintenances = maintenances.join(one_hot)"
   ]
  },
  {
   "cell_type": "code",
   "execution_count": 6,
   "metadata": {
    "executionInfo": {
     "elapsed": 14,
     "status": "ok",
     "timestamp": 1658205468438,
     "user": {
      "displayName": "Nitin Pathak",
      "userId": "10038392480058271538"
     },
     "user_tz": 420
    },
    "id": "-pmFiLezHrhR"
   },
   "outputs": [],
   "source": [
    "errors = errors.drop('errorID',axis=1)\n",
    "failures = failures.drop('failure',axis=1)\n",
    "maintenances = maintenances.drop('comp',axis=1)"
   ]
  },
  {
   "cell_type": "code",
   "execution_count": 7,
   "metadata": {
    "executionInfo": {
     "elapsed": 230,
     "status": "ok",
     "timestamp": 1658205468655,
     "user": {
      "displayName": "Nitin Pathak",
      "userId": "10038392480058271538"
     },
     "user_tz": 420
    },
    "id": "GlRaeWNnInPH"
   },
   "outputs": [],
   "source": [
    "errors = errors.groupby(['machineID','datetime']).max()\n",
    "failures = failures.groupby(['machineID','datetime']).max()\n",
    "maintenances = maintenances.groupby(['machineID','datetime']).max()"
   ]
  },
  {
   "cell_type": "code",
   "execution_count": 8,
   "metadata": {
    "executionInfo": {
     "elapsed": 8,
     "status": "ok",
     "timestamp": 1658205468656,
     "user": {
      "displayName": "Nitin Pathak",
      "userId": "10038392480058271538"
     },
     "user_tz": 420
    },
    "id": "Axl18_wybwpf"
   },
   "outputs": [],
   "source": [
    "errors = errors.reset_index()\n",
    "failures = failures.reset_index()\n",
    "maintenances = maintenances.reset_index()"
   ]
  },
  {
   "cell_type": "code",
   "execution_count": 9,
   "metadata": {
    "executionInfo": {
     "elapsed": 105842,
     "status": "ok",
     "timestamp": 1658205574492,
     "user": {
      "displayName": "Nitin Pathak",
      "userId": "10038392480058271538"
     },
     "user_tz": 420
    },
    "id": "DJwglP6aNrzc"
   },
   "outputs": [],
   "source": [
    "failures['datetime'] = failures['datetime'].apply(pd.to_datetime)\n",
    "errors['datetime'] = errors['datetime'].apply(pd.to_datetime)\n",
    "data['datetime'] = data['datetime'].apply(pd.to_datetime)\n",
    "maintenances['datetime'] = maintenances['datetime'].apply(pd.to_datetime)"
   ]
  },
  {
   "cell_type": "code",
   "execution_count": 10,
   "metadata": {
    "executionInfo": {
     "elapsed": 972,
     "status": "ok",
     "timestamp": 1658205575435,
     "user": {
      "displayName": "Nitin Pathak",
      "userId": "10038392480058271538"
     },
     "user_tz": 420
    },
    "id": "pk72CwJEJQgu"
   },
   "outputs": [],
   "source": [
    "\n",
    "machines = machines.drop('model',axis=1)\n",
    "test = pd.merge(data,machines,on=['machineID'])\n",
    "test = pd.merge(test,errors,how = 'left' , on=['datetime','machineID'])\n",
    "test['error1'] = test['error1'].fillna(0)\n",
    "test['error2'] = test['error2'].fillna(0)\n",
    "test['error3'] = test['error3'].fillna(0)\n",
    "test['error4'] = test['error4'].fillna(0)\n",
    "test['error5'] = test['error5'].fillna(0)\n",
    "test = pd.merge(test,failures,how = 'left' , on=['datetime','machineID'])\n",
    "test['comp1'] = test['comp1'].fillna(0)\n",
    "test['comp2'] = test['comp2'].fillna(0)\n",
    "test['comp3'] = test['comp3'].fillna(0)\n",
    "test['comp4'] = test['comp4'].fillna(0)\n",
    "maintenances = maintenances[maintenances['datetime'] >= '2015']\n",
    "test = pd.merge(test,maintenances,how = 'left' , on=['datetime','machineID'])\n",
    "test['maintComp1'] = test['maintComp1'].fillna(0)\n",
    "test['maintComp2'] = test['maintComp2'].fillna(0)\n",
    "test['maintComp3'] = test['maintComp3'].fillna(0)\n",
    "test['maintComp4'] = test['maintComp4'].fillna(0)"
   ]
  },
  {
   "cell_type": "code",
   "execution_count": 11,
   "metadata": {
    "colab": {
     "base_uri": "https://localhost:8080/",
     "height": 835
    },
    "executionInfo": {
     "elapsed": 11,
     "status": "ok",
     "timestamp": 1658205575436,
     "user": {
      "displayName": "Nitin Pathak",
      "userId": "10038392480058271538"
     },
     "user_tz": 420
    },
    "id": "CVCjE664Mlb7",
    "outputId": "9c8fcef2-1388-4c3f-f8c8-7823baf8f805"
   },
   "outputs": [
    {
     "data": {
      "text/html": [
       "<div>\n",
       "<style scoped>\n",
       "    .dataframe tbody tr th:only-of-type {\n",
       "        vertical-align: middle;\n",
       "    }\n",
       "\n",
       "    .dataframe tbody tr th {\n",
       "        vertical-align: top;\n",
       "    }\n",
       "\n",
       "    .dataframe thead th {\n",
       "        text-align: right;\n",
       "    }\n",
       "</style>\n",
       "<table border=\"1\" class=\"dataframe\">\n",
       "  <thead>\n",
       "    <tr style=\"text-align: right;\">\n",
       "      <th></th>\n",
       "      <th>datetime</th>\n",
       "      <th>machineID</th>\n",
       "      <th>volt</th>\n",
       "      <th>rotate</th>\n",
       "      <th>pressure</th>\n",
       "      <th>vibration</th>\n",
       "      <th>age</th>\n",
       "      <th>error1</th>\n",
       "      <th>error2</th>\n",
       "      <th>error3</th>\n",
       "      <th>error4</th>\n",
       "      <th>error5</th>\n",
       "      <th>comp1</th>\n",
       "      <th>comp2</th>\n",
       "      <th>comp3</th>\n",
       "      <th>comp4</th>\n",
       "      <th>maintComp1</th>\n",
       "      <th>maintComp2</th>\n",
       "      <th>maintComp3</th>\n",
       "      <th>maintComp4</th>\n",
       "    </tr>\n",
       "  </thead>\n",
       "  <tbody>\n",
       "    <tr>\n",
       "      <th>0</th>\n",
       "      <td>2015-01-01 06:00:00</td>\n",
       "      <td>1</td>\n",
       "      <td>176.217853</td>\n",
       "      <td>418.504078</td>\n",
       "      <td>113.077935</td>\n",
       "      <td>45.087686</td>\n",
       "      <td>18</td>\n",
       "      <td>0.0</td>\n",
       "      <td>0.0</td>\n",
       "      <td>0.0</td>\n",
       "      <td>0.0</td>\n",
       "      <td>0.0</td>\n",
       "      <td>0.0</td>\n",
       "      <td>0.0</td>\n",
       "      <td>0.0</td>\n",
       "      <td>0.0</td>\n",
       "      <td>0.0</td>\n",
       "      <td>0.0</td>\n",
       "      <td>0.0</td>\n",
       "      <td>0.0</td>\n",
       "    </tr>\n",
       "    <tr>\n",
       "      <th>1</th>\n",
       "      <td>2015-01-01 07:00:00</td>\n",
       "      <td>1</td>\n",
       "      <td>162.879223</td>\n",
       "      <td>402.747490</td>\n",
       "      <td>95.460525</td>\n",
       "      <td>43.413973</td>\n",
       "      <td>18</td>\n",
       "      <td>0.0</td>\n",
       "      <td>0.0</td>\n",
       "      <td>0.0</td>\n",
       "      <td>0.0</td>\n",
       "      <td>0.0</td>\n",
       "      <td>0.0</td>\n",
       "      <td>0.0</td>\n",
       "      <td>0.0</td>\n",
       "      <td>0.0</td>\n",
       "      <td>0.0</td>\n",
       "      <td>0.0</td>\n",
       "      <td>0.0</td>\n",
       "      <td>0.0</td>\n",
       "    </tr>\n",
       "    <tr>\n",
       "      <th>2</th>\n",
       "      <td>2015-01-01 08:00:00</td>\n",
       "      <td>1</td>\n",
       "      <td>170.989902</td>\n",
       "      <td>527.349825</td>\n",
       "      <td>75.237905</td>\n",
       "      <td>34.178847</td>\n",
       "      <td>18</td>\n",
       "      <td>0.0</td>\n",
       "      <td>0.0</td>\n",
       "      <td>0.0</td>\n",
       "      <td>0.0</td>\n",
       "      <td>0.0</td>\n",
       "      <td>0.0</td>\n",
       "      <td>0.0</td>\n",
       "      <td>0.0</td>\n",
       "      <td>0.0</td>\n",
       "      <td>0.0</td>\n",
       "      <td>0.0</td>\n",
       "      <td>0.0</td>\n",
       "      <td>0.0</td>\n",
       "    </tr>\n",
       "    <tr>\n",
       "      <th>3</th>\n",
       "      <td>2015-01-01 09:00:00</td>\n",
       "      <td>1</td>\n",
       "      <td>162.462833</td>\n",
       "      <td>346.149335</td>\n",
       "      <td>109.248561</td>\n",
       "      <td>41.122144</td>\n",
       "      <td>18</td>\n",
       "      <td>0.0</td>\n",
       "      <td>0.0</td>\n",
       "      <td>0.0</td>\n",
       "      <td>0.0</td>\n",
       "      <td>0.0</td>\n",
       "      <td>0.0</td>\n",
       "      <td>0.0</td>\n",
       "      <td>0.0</td>\n",
       "      <td>0.0</td>\n",
       "      <td>0.0</td>\n",
       "      <td>0.0</td>\n",
       "      <td>0.0</td>\n",
       "      <td>0.0</td>\n",
       "    </tr>\n",
       "    <tr>\n",
       "      <th>4</th>\n",
       "      <td>2015-01-01 10:00:00</td>\n",
       "      <td>1</td>\n",
       "      <td>157.610021</td>\n",
       "      <td>435.376873</td>\n",
       "      <td>111.886648</td>\n",
       "      <td>25.990511</td>\n",
       "      <td>18</td>\n",
       "      <td>0.0</td>\n",
       "      <td>0.0</td>\n",
       "      <td>0.0</td>\n",
       "      <td>0.0</td>\n",
       "      <td>0.0</td>\n",
       "      <td>0.0</td>\n",
       "      <td>0.0</td>\n",
       "      <td>0.0</td>\n",
       "      <td>0.0</td>\n",
       "      <td>0.0</td>\n",
       "      <td>0.0</td>\n",
       "      <td>0.0</td>\n",
       "      <td>0.0</td>\n",
       "    </tr>\n",
       "    <tr>\n",
       "      <th>...</th>\n",
       "      <td>...</td>\n",
       "      <td>...</td>\n",
       "      <td>...</td>\n",
       "      <td>...</td>\n",
       "      <td>...</td>\n",
       "      <td>...</td>\n",
       "      <td>...</td>\n",
       "      <td>...</td>\n",
       "      <td>...</td>\n",
       "      <td>...</td>\n",
       "      <td>...</td>\n",
       "      <td>...</td>\n",
       "      <td>...</td>\n",
       "      <td>...</td>\n",
       "      <td>...</td>\n",
       "      <td>...</td>\n",
       "      <td>...</td>\n",
       "      <td>...</td>\n",
       "      <td>...</td>\n",
       "      <td>...</td>\n",
       "    </tr>\n",
       "    <tr>\n",
       "      <th>876095</th>\n",
       "      <td>2016-01-01 02:00:00</td>\n",
       "      <td>100</td>\n",
       "      <td>179.438162</td>\n",
       "      <td>395.222827</td>\n",
       "      <td>102.290715</td>\n",
       "      <td>50.771941</td>\n",
       "      <td>5</td>\n",
       "      <td>0.0</td>\n",
       "      <td>0.0</td>\n",
       "      <td>0.0</td>\n",
       "      <td>0.0</td>\n",
       "      <td>0.0</td>\n",
       "      <td>0.0</td>\n",
       "      <td>0.0</td>\n",
       "      <td>0.0</td>\n",
       "      <td>0.0</td>\n",
       "      <td>0.0</td>\n",
       "      <td>0.0</td>\n",
       "      <td>0.0</td>\n",
       "      <td>0.0</td>\n",
       "    </tr>\n",
       "    <tr>\n",
       "      <th>876096</th>\n",
       "      <td>2016-01-01 03:00:00</td>\n",
       "      <td>100</td>\n",
       "      <td>189.617555</td>\n",
       "      <td>446.207972</td>\n",
       "      <td>98.180607</td>\n",
       "      <td>35.123072</td>\n",
       "      <td>5</td>\n",
       "      <td>0.0</td>\n",
       "      <td>0.0</td>\n",
       "      <td>0.0</td>\n",
       "      <td>0.0</td>\n",
       "      <td>0.0</td>\n",
       "      <td>0.0</td>\n",
       "      <td>0.0</td>\n",
       "      <td>0.0</td>\n",
       "      <td>0.0</td>\n",
       "      <td>0.0</td>\n",
       "      <td>0.0</td>\n",
       "      <td>0.0</td>\n",
       "      <td>0.0</td>\n",
       "    </tr>\n",
       "    <tr>\n",
       "      <th>876097</th>\n",
       "      <td>2016-01-01 04:00:00</td>\n",
       "      <td>100</td>\n",
       "      <td>192.483414</td>\n",
       "      <td>447.816524</td>\n",
       "      <td>94.132837</td>\n",
       "      <td>48.314561</td>\n",
       "      <td>5</td>\n",
       "      <td>0.0</td>\n",
       "      <td>0.0</td>\n",
       "      <td>0.0</td>\n",
       "      <td>0.0</td>\n",
       "      <td>0.0</td>\n",
       "      <td>0.0</td>\n",
       "      <td>0.0</td>\n",
       "      <td>0.0</td>\n",
       "      <td>0.0</td>\n",
       "      <td>0.0</td>\n",
       "      <td>0.0</td>\n",
       "      <td>0.0</td>\n",
       "      <td>0.0</td>\n",
       "    </tr>\n",
       "    <tr>\n",
       "      <th>876098</th>\n",
       "      <td>2016-01-01 05:00:00</td>\n",
       "      <td>100</td>\n",
       "      <td>165.475310</td>\n",
       "      <td>413.771670</td>\n",
       "      <td>104.081073</td>\n",
       "      <td>44.835259</td>\n",
       "      <td>5</td>\n",
       "      <td>0.0</td>\n",
       "      <td>0.0</td>\n",
       "      <td>0.0</td>\n",
       "      <td>0.0</td>\n",
       "      <td>0.0</td>\n",
       "      <td>0.0</td>\n",
       "      <td>0.0</td>\n",
       "      <td>0.0</td>\n",
       "      <td>0.0</td>\n",
       "      <td>0.0</td>\n",
       "      <td>0.0</td>\n",
       "      <td>0.0</td>\n",
       "      <td>0.0</td>\n",
       "    </tr>\n",
       "    <tr>\n",
       "      <th>876099</th>\n",
       "      <td>2016-01-01 06:00:00</td>\n",
       "      <td>100</td>\n",
       "      <td>171.336037</td>\n",
       "      <td>496.096870</td>\n",
       "      <td>79.095538</td>\n",
       "      <td>37.845245</td>\n",
       "      <td>5</td>\n",
       "      <td>0.0</td>\n",
       "      <td>0.0</td>\n",
       "      <td>0.0</td>\n",
       "      <td>0.0</td>\n",
       "      <td>0.0</td>\n",
       "      <td>0.0</td>\n",
       "      <td>0.0</td>\n",
       "      <td>0.0</td>\n",
       "      <td>0.0</td>\n",
       "      <td>0.0</td>\n",
       "      <td>0.0</td>\n",
       "      <td>0.0</td>\n",
       "      <td>0.0</td>\n",
       "    </tr>\n",
       "  </tbody>\n",
       "</table>\n",
       "<p>876100 rows × 20 columns</p>\n",
       "</div>"
      ],
      "text/plain": [
       "                  datetime  machineID        volt      rotate    pressure  \\\n",
       "0      2015-01-01 06:00:00          1  176.217853  418.504078  113.077935   \n",
       "1      2015-01-01 07:00:00          1  162.879223  402.747490   95.460525   \n",
       "2      2015-01-01 08:00:00          1  170.989902  527.349825   75.237905   \n",
       "3      2015-01-01 09:00:00          1  162.462833  346.149335  109.248561   \n",
       "4      2015-01-01 10:00:00          1  157.610021  435.376873  111.886648   \n",
       "...                    ...        ...         ...         ...         ...   \n",
       "876095 2016-01-01 02:00:00        100  179.438162  395.222827  102.290715   \n",
       "876096 2016-01-01 03:00:00        100  189.617555  446.207972   98.180607   \n",
       "876097 2016-01-01 04:00:00        100  192.483414  447.816524   94.132837   \n",
       "876098 2016-01-01 05:00:00        100  165.475310  413.771670  104.081073   \n",
       "876099 2016-01-01 06:00:00        100  171.336037  496.096870   79.095538   \n",
       "\n",
       "        vibration  age  error1  error2  error3  error4  error5  comp1  comp2  \\\n",
       "0       45.087686   18     0.0     0.0     0.0     0.0     0.0    0.0    0.0   \n",
       "1       43.413973   18     0.0     0.0     0.0     0.0     0.0    0.0    0.0   \n",
       "2       34.178847   18     0.0     0.0     0.0     0.0     0.0    0.0    0.0   \n",
       "3       41.122144   18     0.0     0.0     0.0     0.0     0.0    0.0    0.0   \n",
       "4       25.990511   18     0.0     0.0     0.0     0.0     0.0    0.0    0.0   \n",
       "...           ...  ...     ...     ...     ...     ...     ...    ...    ...   \n",
       "876095  50.771941    5     0.0     0.0     0.0     0.0     0.0    0.0    0.0   \n",
       "876096  35.123072    5     0.0     0.0     0.0     0.0     0.0    0.0    0.0   \n",
       "876097  48.314561    5     0.0     0.0     0.0     0.0     0.0    0.0    0.0   \n",
       "876098  44.835259    5     0.0     0.0     0.0     0.0     0.0    0.0    0.0   \n",
       "876099  37.845245    5     0.0     0.0     0.0     0.0     0.0    0.0    0.0   \n",
       "\n",
       "        comp3  comp4  maintComp1  maintComp2  maintComp3  maintComp4  \n",
       "0         0.0    0.0         0.0         0.0         0.0         0.0  \n",
       "1         0.0    0.0         0.0         0.0         0.0         0.0  \n",
       "2         0.0    0.0         0.0         0.0         0.0         0.0  \n",
       "3         0.0    0.0         0.0         0.0         0.0         0.0  \n",
       "4         0.0    0.0         0.0         0.0         0.0         0.0  \n",
       "...       ...    ...         ...         ...         ...         ...  \n",
       "876095    0.0    0.0         0.0         0.0         0.0         0.0  \n",
       "876096    0.0    0.0         0.0         0.0         0.0         0.0  \n",
       "876097    0.0    0.0         0.0         0.0         0.0         0.0  \n",
       "876098    0.0    0.0         0.0         0.0         0.0         0.0  \n",
       "876099    0.0    0.0         0.0         0.0         0.0         0.0  \n",
       "\n",
       "[876100 rows x 20 columns]"
      ]
     },
     "execution_count": 11,
     "metadata": {},
     "output_type": "execute_result"
    }
   ],
   "source": [
    "test"
   ]
  },
  {
   "cell_type": "code",
   "execution_count": 12,
   "metadata": {
    "executionInfo": {
     "elapsed": 179,
     "status": "ok",
     "timestamp": 1658205575607,
     "user": {
      "displayName": "Nitin Pathak",
      "userId": "10038392480058271538"
     },
     "user_tz": 420
    },
    "id": "OVxuSDA-NHKL"
   },
   "outputs": [],
   "source": [
    "df = test"
   ]
  },
  {
   "cell_type": "code",
   "execution_count": 13,
   "metadata": {
    "executionInfo": {
     "elapsed": 130372,
     "status": "ok",
     "timestamp": 1658205705975,
     "user": {
      "displayName": "Nitin Pathak",
      "userId": "10038392480058271538"
     },
     "user_tz": 420
    },
    "id": "BOxllcTqdc1c"
   },
   "outputs": [],
   "source": [
    "df['comp1_fails_in_aday'] = df['comp1'] \n",
    "day = 24\n",
    "for i in range(0, len(df)):\n",
    "  if(df.iloc[i,12]== 1):\n",
    "    id = df.iloc[i,1]\n",
    "    for j in range(i , max(-1,i-day) , -1):\n",
    "      if(id != df.iloc[j,1]):\n",
    "        break\n",
    "      df.at[j, 'comp1_fails_in_aday'] = 1\n",
    "df['comp2_fails_in_aday'] = df['comp2'] \n",
    "day = 24\n",
    "for i in range(0, len(df)):\n",
    "  if(df.iloc[i,13]== 1):\n",
    "    id = df.iloc[i,1]\n",
    "    for j in range(i , max(-1,i-day) , -1):\n",
    "      if(id != df.iloc[j,1]):\n",
    "        break\n",
    "      df.at[j, 'comp2_fails_in_aday'] = 1\n",
    "df['comp3_fails_in_aday'] = df['comp3'] \n",
    "day = 24\n",
    "for i in range(0, len(df)):\n",
    "  if(df.iloc[i,14]== 1):\n",
    "    id = df.iloc[i,1]\n",
    "    for j in range(i , max(-1,i-day) , -1):\n",
    "      if(id != df.iloc[j,1]):\n",
    "        break\n",
    "      df.at[j, 'comp3_fails_in_aday'] = 1\n",
    "df['comp4_fails_in_aday'] = df['comp4'] \n",
    "day = 24\n",
    "for i in range(0, len(df)):\n",
    "  if(df.iloc[i,15]== 1):\n",
    "    id = df.iloc[i,1]\n",
    "    for j in range(i , max(-1,i-day) , -1):\n",
    "      if(id != df.iloc[j,1]):\n",
    "        break\n",
    "      df.at[j, 'comp4_fails_in_aday'] = 1\n",
    "       "
   ]
  },
  {
   "cell_type": "code",
   "execution_count": 14,
   "metadata": {
    "executionInfo": {
     "elapsed": 34,
     "status": "ok",
     "timestamp": 1658205705977,
     "user": {
      "displayName": "Nitin Pathak",
      "userId": "10038392480058271538"
     },
     "user_tz": 420
    },
    "id": "4L1xM770eHBb"
   },
   "outputs": [],
   "source": [
    "features_col_name=['volt' , 'rotate' , 'pressure' , 'vibration' ,\t'age'  , 'error1', 'error2' , 'error3' , 'error4' , 'maintComp1', 'maintComp2','maintComp3' , 'maintComp4']\n",
    "target_col_day=['comp1_fails_in_aday','comp2_fails_in_aday','comp3_fails_in_aday','comp4_fails_in_aday']"
   ]
  },
  {
   "cell_type": "code",
   "execution_count": 15,
   "metadata": {
    "executionInfo": {
     "elapsed": 32,
     "status": "ok",
     "timestamp": 1658205705977,
     "user": {
      "displayName": "Nitin Pathak",
      "userId": "10038392480058271538"
     },
     "user_tz": 420
    },
    "id": "vC-oNTaVeH0l"
   },
   "outputs": [],
   "source": [
    "train = pd.DataFrame(columns = df.columns)\n",
    "test = pd.DataFrame(columns = df.columns)"
   ]
  },
  {
   "cell_type": "code",
   "execution_count": 16,
   "metadata": {
    "executionInfo": {
     "elapsed": 6992,
     "status": "ok",
     "timestamp": 1658205712939,
     "user": {
      "displayName": "Nitin Pathak",
      "userId": "10038392480058271538"
     },
     "user_tz": 420
    },
    "id": "xEDG0FNfgl3Q"
   },
   "outputs": [],
   "source": [
    "from sklearn.preprocessing import MinMaxScaler\n",
    "for i in range(1,101):\n",
    "  k = df[df['machineID'] == i][:6503]\n",
    "  train = train.append(k)\n",
    "  k = df[df['machineID'] == i][6503:]\n",
    "  test = test.append(k)\n",
    "\n",
    "sc=MinMaxScaler()\n",
    "train[features_col_name]=sc.fit_transform(train[features_col_name])\n",
    "test[features_col_name]=sc.transform(test[features_col_name])"
   ]
  },
  {
   "cell_type": "code",
   "execution_count": 17,
   "metadata": {
    "executionInfo": {
     "elapsed": 34,
     "status": "ok",
     "timestamp": 1658205712943,
     "user": {
      "displayName": "Nitin Pathak",
      "userId": "10038392480058271538"
     },
     "user_tz": 420
    },
    "id": "SuMSKEXxgu7W"
   },
   "outputs": [],
   "source": [
    "seq_cols=features_col_name\n",
    "def gen_sequence(id_df, seq_length, seq_cols):\n",
    "    df_zeros=pd.DataFrame(np.zeros((seq_length-1,id_df.shape[1])),columns=id_df.columns)\n",
    "    id_df=df_zeros.append(id_df,ignore_index=True)\n",
    "    data_array = id_df[seq_cols].values\n",
    "    num_elements = data_array.shape[0]\n",
    "    lstm_array=[]\n",
    "    for start, stop in zip(range(0, num_elements-seq_length), range(seq_length, num_elements)):\n",
    "        lstm_array.append(data_array[start:stop, :])\n",
    "    return np.array(lstm_array)\n",
    "\n",
    "# function to generate labels\n",
    "def gen_label(id_df, seq_length, seq_cols,labels):\n",
    "    df_zeros=pd.DataFrame(np.zeros((seq_length-1,id_df.shape[1])),columns=id_df.columns)\n",
    "    id_df=df_zeros.append(id_df,ignore_index=True)\n",
    "    data_array = id_df[seq_cols].values\n",
    "    num_elements = data_array.shape[0]\n",
    "    y_label=[]\n",
    "    for start, stop in zip(range(0, num_elements-seq_length), range(seq_length, num_elements)):\n",
    "        y_label.append([id_df[labels[0]][stop],id_df[labels[1]][stop],id_df[labels[2]][stop],id_df[labels[3]][stop]])\n",
    "    return np.array(y_label)"
   ]
  },
  {
   "cell_type": "code",
   "execution_count": 18,
   "metadata": {
    "colab": {
     "base_uri": "https://localhost:8080/"
    },
    "executionInfo": {
     "elapsed": 42007,
     "status": "ok",
     "timestamp": 1658205754919,
     "user": {
      "displayName": "Nitin Pathak",
      "userId": "10038392480058271538"
     },
     "user_tz": 420
    },
    "id": "wJQ6S1PWh6GE",
    "outputId": "e6159d24-d4c7-4d3f-8102-bc8f0984da2f"
   },
   "outputs": [
    {
     "name": "stdout",
     "output_type": "stream",
     "text": [
      "(650200, 24, 13)\n",
      "(650200, 4)\n",
      "(225700, 24, 13)\n",
      "(225700, 4)\n"
     ]
    }
   ],
   "source": [
    "# generate X_train\n",
    "X_train=np.concatenate(list(list(gen_sequence(train[train['machineID']==id], day, seq_cols)) for id in train['machineID'].unique()))\n",
    "print(X_train.shape)\n",
    "# generate y_train\n",
    "y_train=np.concatenate(list(list(gen_label(train[train['machineID']==id], day, seq_cols,target_col_day)) for id in train['machineID'].unique()))\n",
    "print(y_train.shape)\n",
    "# generate X_test\n",
    "X_test=np.concatenate(list(list(gen_sequence(test[test['machineID']==id], day, seq_cols)) for id in test['machineID'].unique()))\n",
    "print(X_test.shape)\n",
    "# generate y_test\n",
    "y_test=np.concatenate(list(list(gen_label(test[test['machineID']==id], day, seq_cols,target_col_day)) for id in test['machineID'].unique()))\n",
    "print(y_test.shape)\n",
    "y_train = list(np.transpose(y_train))\n",
    "y_test = list(np.transpose(y_test))"
   ]
  },
  {
   "cell_type": "code",
   "execution_count": 19,
   "metadata": {
    "executionInfo": {
     "elapsed": 9819,
     "status": "ok",
     "timestamp": 1658205764708,
     "user": {
      "displayName": "Nitin Pathak",
      "userId": "10038392480058271538"
     },
     "user_tz": 420
    },
    "id": "iB_uvxkW9Gj3"
   },
   "outputs": [],
   "source": [
    "from keras.models import Model\n",
    "from keras.layers.core import Activation\n",
    "from keras.layers.core import Dropout\n",
    "from keras.layers.core import Lambda\n",
    "from keras.layers.core import Dense\n",
    "from keras.layers import LSTM\n",
    "from keras.layers import Flatten\n",
    "from keras.layers import Input\n",
    "import tensorflow as tf\n",
    "class UtkMultiOutputModel():\n",
    "    def make_default_hidden_layers(self, inputs):\n",
    "        x = LSTM(units=200,return_sequences=True)(inputs)\n",
    "        x = Dropout(0.2)(x)\n",
    "        x = LSTM(units=200,return_sequences=False)(inputs)\n",
    "        x = Dropout(0.2)(x)\n",
    "        return x\n",
    "    def build_comp1_branch(self, inputs):\n",
    "        x = self.make_default_hidden_layers(inputs)\n",
    "        x = Dense(1)(x)\n",
    "        x = Activation(\"sigmoid\", name=\"comp1\")(x)\n",
    "        return x\n",
    "    def build_comp2_branch(self, inputs):\n",
    "        x = self.make_default_hidden_layers(inputs)\n",
    "        x = Dense(1)(x)\n",
    "        x = Activation(\"sigmoid\", name=\"comp2\")(x)\n",
    "        return x\n",
    "    def build_comp3_branch(self, inputs):   \n",
    "        x = self.make_default_hidden_layers(inputs)\n",
    "        x = Dense(1)(x)\n",
    "        x = Activation(\"sigmoid\", name=\"comp3\")(x)\n",
    "        return x\n",
    "\n",
    "    def build_comp4_branch(self, inputs):   \n",
    "        x = self.make_default_hidden_layers(inputs)\n",
    "        x = Dense(1)(x)\n",
    "        x = Activation(\"sigmoid\", name=\"comp4\")(x)\n",
    "        return x\n",
    "    def assemble_full_model(self, timestamp, nb_features):\n",
    "        input_shape=(timestamp, nb_features)\n",
    "        inputs = Input(shape=input_shape)\n",
    "        branch1 = self.build_comp1_branch(inputs)\n",
    "        branch2 = self.build_comp2_branch(inputs)\n",
    "        branch3 = self.build_comp3_branch(inputs)\n",
    "        branch4 = self.build_comp4_branch(inputs)\n",
    "        model = Model(inputs=inputs,\n",
    "                     outputs = [branch1,branch2,branch3,branch4],\n",
    "                     name=\"failure\")\n",
    "        return model\n",
    "nb_features =X_train.shape[2]\n",
    "timestamp=day\n",
    "\n",
    "    \n",
    "model = UtkMultiOutputModel().assemble_full_model(timestamp,nb_features)\n"
   ]
  },
  {
   "cell_type": "code",
   "execution_count": 20,
   "metadata": {
    "colab": {
     "base_uri": "https://localhost:8080/"
    },
    "executionInfo": {
     "elapsed": 362668,
     "status": "ok",
     "timestamp": 1658206127345,
     "user": {
      "displayName": "Nitin Pathak",
      "userId": "10038392480058271538"
     },
     "user_tz": 420
    },
    "id": "n5WXhl8OdKBs",
    "outputId": "b661f999-8096-4882-8ff0-27cd58bdd176"
   },
   "outputs": [
    {
     "name": "stdout",
     "output_type": "stream",
     "text": [
      "5202/5202 [==============================] - 884s 169ms/step - loss: 0.0111 - comp1_loss: 0.0284 - comp2_loss: 0.0402 - comp3_loss: 0.0205 - comp4_loss: 0.0214 - comp1_accuracy: 0.9947 - comp2_accuracy: 0.9929 - comp3_accuracy: 0.9968 - comp4_accuracy: 0.9949 - val_loss: 0.0081 - val_comp1_loss: 0.0097 - val_comp2_loss: 0.0393 - val_comp3_loss: 0.0138 - val_comp4_loss: 0.0182 - val_comp1_accuracy: 0.9981 - val_comp2_accuracy: 0.9928 - val_comp3_accuracy: 0.9937 - val_comp4_accuracy: 0.9949\n"
     ]
    },
    {
     "data": {
      "text/plain": [
       "<keras.callbacks.History at 0x1df04deefa0>"
      ]
     },
     "execution_count": 20,
     "metadata": {},
     "output_type": "execute_result"
    }
   ],
   "source": [
    "from keras import backend as K\n",
    "\n",
    "def recall_m(y_true, y_pred):\n",
    "    true_positives = K.sum(K.round(K.clip(y_true * y_pred, 0, 1)))\n",
    "    possible_positives = K.sum(K.round(K.clip(y_true, 0, 1)))\n",
    "    recall = true_positives / (possible_positives + K.epsilon())\n",
    "    return recall\n",
    "\n",
    "def precision_m(y_true, y_pred):\n",
    "    true_positives = K.sum(K.round(K.clip(y_true * y_pred, 0, 1)))\n",
    "    predicted_positives = K.sum(K.round(K.clip(y_pred, 0, 1)))\n",
    "    precision = true_positives / (predicted_positives + K.epsilon())\n",
    "    return precision\n",
    "\n",
    "def f1_m(y_true, y_pred):\n",
    "    precision = precision_m(y_true, y_pred)\n",
    "    recall = recall_m(y_true, y_pred)\n",
    "    return 2*((precision*recall)/(precision+recall+K.epsilon()))\n",
    "\n",
    "\n",
    "model.compile(optimizer='adam', \n",
    "              loss={\n",
    "                  'comp1': 'binary_crossentropy',\n",
    "                  'comp2': 'binary_crossentropy',\n",
    "                  'comp3': 'binary_crossentropy', \n",
    "                  'comp4': 'binary_crossentropy'},\n",
    "              loss_weights={\n",
    "                  'comp1': 0.1,\n",
    "                  'comp2': 0.1,\n",
    "                  'comp3': 0.1, \n",
    "                  'comp4': 0.1},\n",
    "              metrics={\n",
    "                  'comp1': 'accuracy',\n",
    "                  'comp2': 'accuracy',\n",
    "                  'comp3': 'accuracy',\n",
    "                  'comp4': 'accuracy'},)\n",
    "\n",
    "model.fit(X_train, y_train, epochs=1, batch_size=100, validation_split=0.2) \n",
    "# kept epoch=1 for the time effectiveness of this notebook run"
   ]
  },
  {
   "cell_type": "code",
   "execution_count": 21,
   "metadata": {
    "colab": {
     "base_uri": "https://localhost:8080/"
    },
    "executionInfo": {
     "elapsed": 222,
     "status": "ok",
     "timestamp": 1658206127540,
     "user": {
      "displayName": "Nitin Pathak",
      "userId": "10038392480058271538"
     },
     "user_tz": 420
    },
    "id": "X-7kucbIdxNy",
    "outputId": "ada3dfac-2bab-419e-ee4b-df12848b3a09"
   },
   "outputs": [
    {
     "name": "stdout",
     "output_type": "stream",
     "text": [
      "Model: \"failure\"\n",
      "__________________________________________________________________________________________________\n",
      " Layer (type)                   Output Shape         Param #     Connected to                     \n",
      "==================================================================================================\n",
      " input_1 (InputLayer)           [(None, 24, 13)]     0           []                               \n",
      "                                                                                                  \n",
      " lstm_1 (LSTM)                  (None, 200)          171200      ['input_1[0][0]']                \n",
      "                                                                                                  \n",
      " lstm_3 (LSTM)                  (None, 200)          171200      ['input_1[0][0]']                \n",
      "                                                                                                  \n",
      " lstm_5 (LSTM)                  (None, 200)          171200      ['input_1[0][0]']                \n",
      "                                                                                                  \n",
      " lstm_7 (LSTM)                  (None, 200)          171200      ['input_1[0][0]']                \n",
      "                                                                                                  \n",
      " dropout_1 (Dropout)            (None, 200)          0           ['lstm_1[0][0]']                 \n",
      "                                                                                                  \n",
      " dropout_3 (Dropout)            (None, 200)          0           ['lstm_3[0][0]']                 \n",
      "                                                                                                  \n",
      " dropout_5 (Dropout)            (None, 200)          0           ['lstm_5[0][0]']                 \n",
      "                                                                                                  \n",
      " dropout_7 (Dropout)            (None, 200)          0           ['lstm_7[0][0]']                 \n",
      "                                                                                                  \n",
      " dense (Dense)                  (None, 1)            201         ['dropout_1[0][0]']              \n",
      "                                                                                                  \n",
      " dense_1 (Dense)                (None, 1)            201         ['dropout_3[0][0]']              \n",
      "                                                                                                  \n",
      " dense_2 (Dense)                (None, 1)            201         ['dropout_5[0][0]']              \n",
      "                                                                                                  \n",
      " dense_3 (Dense)                (None, 1)            201         ['dropout_7[0][0]']              \n",
      "                                                                                                  \n",
      " comp1 (Activation)             (None, 1)            0           ['dense[0][0]']                  \n",
      "                                                                                                  \n",
      " comp2 (Activation)             (None, 1)            0           ['dense_1[0][0]']                \n",
      "                                                                                                  \n",
      " comp3 (Activation)             (None, 1)            0           ['dense_2[0][0]']                \n",
      "                                                                                                  \n",
      " comp4 (Activation)             (None, 1)            0           ['dense_3[0][0]']                \n",
      "                                                                                                  \n",
      "==================================================================================================\n",
      "Total params: 685,604\n",
      "Trainable params: 685,604\n",
      "Non-trainable params: 0\n",
      "__________________________________________________________________________________________________\n"
     ]
    }
   ],
   "source": [
    "model.summary()"
   ]
  },
  {
   "cell_type": "code",
   "execution_count": 22,
   "metadata": {
    "executionInfo": {
     "elapsed": 38182,
     "status": "ok",
     "timestamp": 1658206165720,
     "user": {
      "displayName": "Nitin Pathak",
      "userId": "10038392480058271538"
     },
     "user_tz": 420
    },
    "id": "CdavFAQ8Sbp-"
   },
   "outputs": [],
   "source": [
    "y_pred = np.array(model.predict(X_test))"
   ]
  },
  {
   "cell_type": "code",
   "execution_count": 23,
   "metadata": {
    "executionInfo": {
     "elapsed": 27,
     "status": "ok",
     "timestamp": 1658206165721,
     "user": {
      "displayName": "Nitin Pathak",
      "userId": "10038392480058271538"
     },
     "user_tz": 420
    },
    "id": "HC-q49_KGRG7"
   },
   "outputs": [],
   "source": [
    "y_pred_comp1 = y_pred[0].flatten()\n",
    "y_pred_comp2 = y_pred[1].flatten()\n",
    "y_pred_comp3 = y_pred[2].flatten()\n",
    "y_pred_comp4 = y_pred[3].flatten()"
   ]
  },
  {
   "cell_type": "code",
   "execution_count": 24,
   "metadata": {
    "executionInfo": {
     "elapsed": 26,
     "status": "ok",
     "timestamp": 1658206165722,
     "user": {
      "displayName": "Nitin Pathak",
      "userId": "10038392480058271538"
     },
     "user_tz": 420
    },
    "id": "493VUXhTc4dC"
   },
   "outputs": [],
   "source": [
    "y_true_comp1 = y_test[0].flatten()\n",
    "y_true_comp2 = y_test[1].flatten()\n",
    "y_true_comp3 = y_test[2].flatten()\n",
    "y_true_comp4 = y_test[3].flatten()"
   ]
  },
  {
   "cell_type": "code",
   "execution_count": 25,
   "metadata": {
    "executionInfo": {
     "elapsed": 1771,
     "status": "ok",
     "timestamp": 1658206167468,
     "user": {
      "displayName": "Nitin Pathak",
      "userId": "10038392480058271538"
     },
     "user_tz": 420
    },
    "id": "wtVzcwUUdDcT"
   },
   "outputs": [],
   "source": [
    "y_pred_classes_comp1= np.array(list(map(lambda x: 0 if x<0.5 else 1, y_pred_comp1)))\n",
    "y_pred_classes_comp2= np.array(list(map(lambda x: 0 if x<0.5 else 1, y_pred_comp2)))\n",
    "y_pred_classes_comp3= np.array(list(map(lambda x: 0 if x<0.5 else 1, y_pred_comp3)))\n",
    "y_pred_classes_comp4= np.array(list(map(lambda x: 0 if x<0.5 else 1, y_pred_comp4)))"
   ]
  },
  {
   "cell_type": "code",
   "execution_count": 40,
   "metadata": {
    "colab": {
     "base_uri": "https://localhost:8080/",
     "height": 1000
    },
    "executionInfo": {
     "elapsed": 2056,
     "status": "ok",
     "timestamp": 1658206169515,
     "user": {
      "displayName": "Nitin Pathak",
      "userId": "10038392480058271538"
     },
     "user_tz": 420
    },
    "id": "X2aaShEKNtNP",
    "outputId": "b71d4471-9e52-4fa3-da1d-817040970f34"
   },
   "outputs": [
    {
     "data": {
      "image/png": "[encoded data removed]",
      "text/plain": [
       "<Figure size 864x720 with 2 Axes>"
      ]
     },
     "metadata": {
      "needs_background": "light"
     },
     "output_type": "display_data"
    },
    {
     "name": "stdout",
     "output_type": "stream",
     "text": [
      "Accuracy :  0.9990518387239699\n",
      "Recall :  0.9477054429028815\n",
      "Precision :  0.8433048433048433\n",
      "F1 score :  0.892462311557789\n"
     ]
    },
    {
     "data": {
      "image/png": "[encoded data removed]",
      "text/plain": [
       "<Figure size 864x720 with 2 Axes>"
      ]
     },
     "metadata": {
      "needs_background": "light"
     },
     "output_type": "display_data"
    },
    {
     "name": "stdout",
     "output_type": "stream",
     "text": [
      "Accuracy :  0.9923438192290651\n",
      "Recall :  0.0\n",
      "Precision :  nan\n",
      "F1 score :  nan\n"
     ]
    },
    {
     "name": "stderr",
     "output_type": "stream",
     "text": [
      "C:\\Users\\nrp\\AppData\\Local\\Temp/ipykernel_24524/546963598.py:23: RuntimeWarning: invalid value encountered in longlong_scalars\n",
      "  precision = (cm[1][1]/(cm[1][1]+cm[1][0]))\n"
     ]
    },
    {
     "data": {
      "image/png": "[encoded data removed]",
      "text/plain": [
       "<Figure size 864x720 with 2 Axes>"
      ]
     },
     "metadata": {
      "needs_background": "light"
     },
     "output_type": "display_data"
    },
    {
     "name": "stdout",
     "output_type": "stream",
     "text": [
      "Accuracy :  0.9969206911829863\n",
      "Recall :  0.0014367816091954023\n",
      "Precision :  1.0\n",
      "F1 score :  0.0028694404591104736\n"
     ]
    },
    {
     "data": {
      "image/png": "[encoded data removed]",
      "text/plain": [
       "<Figure size 864x720 with 2 Axes>"
      ]
     },
     "metadata": {
      "needs_background": "light"
     },
     "output_type": "display_data"
    },
    {
     "name": "stdout",
     "output_type": "stream",
     "text": [
      "Accuracy :  0.9956357997341604\n",
      "Recall :  0.0\n",
      "Precision :  nan\n",
      "F1 score :  nan\n"
     ]
    },
    {
     "name": "stderr",
     "output_type": "stream",
     "text": [
      "C:\\Users\\nrp\\AppData\\Local\\Temp/ipykernel_24524/546963598.py:23: RuntimeWarning: invalid value encountered in longlong_scalars\n",
      "  precision = (cm[1][1]/(cm[1][1]+cm[1][0]))\n"
     ]
    }
   ],
   "source": [
    "from sklearn.metrics import accuracy_score\n",
    "from sklearn.metrics import confusion_matrix\n",
    "#plotting the cm\n",
    "import seaborn as sns\n",
    "import matplotlib.pyplot as plt\n",
    "def conf_mat(y_true , y_pred_classes , name):\n",
    "  cm = confusion_matrix(y_true,y_pred_classes)\n",
    "  plt.figure(figsize = (12, 10))\n",
    "  cm = pd.DataFrame(cm , index = [0,1] , columns = [0,1])\n",
    "  sns.heatmap(cm, linecolor='white', cmap='Blues', linewidth=1, annot=True, fmt='')\n",
    "  plt.title('Confusion Matrix', size=6)\n",
    "  plt.xlabel('Predicted : '+name , size=4)\n",
    "  plt.ylabel('Actual : '+name ,size=4)\n",
    "  plt.show()\n",
    "  return cm\n",
    "def performance(cm):\n",
    "  #Accuracy\n",
    "  print('Accuracy : ', (cm[0][0]+cm[1][1])/(cm[0][0]+cm[1][0]+cm[0][1]+cm[1][1]))\n",
    "  #Recall\n",
    "  recall = (cm[1][1]/(cm[1][1]+cm[0][1]))\n",
    "  print('Recall : ', recall )\n",
    "  #Precision\n",
    "  precision = (cm[1][1]/(cm[1][1]+cm[1][0]))\n",
    "  print('Precision : ', precision )\n",
    "  #F1 Score\n",
    "  print('F1 score : ',2*precision*recall/(precision+recall))\n",
    "performance(conf_mat(y_true_comp1 , y_pred_classes_comp1 , 'composant n°1'))\n",
    "performance(conf_mat(y_true_comp2 , y_pred_classes_comp2 , 'composant n°2'))\n",
    "performance(conf_mat(y_true_comp3 , y_pred_classes_comp3 , 'composant n°3'))\n",
    "performance(conf_mat(y_true_comp4 , y_pred_classes_comp4 , 'composant n°4'))"
   ]
  },
  {
   "cell_type": "code",
   "execution_count": 41,
   "metadata": {},
   "outputs": [
    {
     "data": {
      "image/png": "[encoded data removed]",
      "text/plain": [
       "<Figure size 864x720 with 2 Axes>"
      ]
     },
     "metadata": {
      "needs_background": "light"
     },
     "output_type": "display_data"
    },
    {
     "name": "stdout",
     "output_type": "stream",
     "text": [
      "Accuracy :  0.9990518387239699\n",
      "Recall :  0.9477054429028815\n",
      "Precision :  0.8433048433048433\n",
      "F1 score :  0.892462311557789\n"
     ]
    }
   ],
   "source": [
    "performance(conf_mat(y_true_comp1 , y_pred_classes_comp1 , 'composant n°1'))\n"
   ]
  },
  {
   "cell_type": "code",
   "execution_count": 42,
   "metadata": {},
   "outputs": [
    {
     "data": {
      "image/png": "[encoded data removed]",
      "text/plain": [
       "<Figure size 864x720 with 2 Axes>"
      ]
     },
     "metadata": {
      "needs_background": "light"
     },
     "output_type": "display_data"
    },
    {
     "name": "stdout",
     "output_type": "stream",
     "text": [
      "Accuracy :  0.9923438192290651\n",
      "Recall :  0.0\n",
      "Precision :  nan\n",
      "F1 score :  nan\n"
     ]
    },
    {
     "name": "stderr",
     "output_type": "stream",
     "text": [
      "C:\\Users\\nrp\\AppData\\Local\\Temp/ipykernel_24524/546963598.py:23: RuntimeWarning: invalid value encountered in longlong_scalars\n",
      "  precision = (cm[1][1]/(cm[1][1]+cm[1][0]))\n"
     ]
    }
   ],
   "source": [
    "performance(conf_mat(y_true_comp2 , y_pred_classes_comp2 , 'composant n°2'))\n"
   ]
  },
  {
   "cell_type": "code",
   "execution_count": 43,
   "metadata": {},
   "outputs": [
    {
     "data": {
      "image/png": "[encoded data removed]",
      "text/plain": [
       "<Figure size 864x720 with 2 Axes>"
      ]
     },
     "metadata": {
      "needs_background": "light"
     },
     "output_type": "display_data"
    },
    {
     "name": "stdout",
     "output_type": "stream",
     "text": [
      "Accuracy :  0.9969206911829863\n",
      "Recall :  0.0014367816091954023\n",
      "Precision :  1.0\n",
      "F1 score :  0.0028694404591104736\n"
     ]
    }
   ],
   "source": [
    "performance(conf_mat(y_true_comp3 , y_pred_classes_comp3 , 'composant n°3'))\n"
   ]
  },
  {
   "cell_type": "code",
   "execution_count": 44,
   "metadata": {},
   "outputs": [
    {
     "data": {
      "image/png": "[encoded data removed]",
      "text/plain": [
       "<Figure size 864x720 with 2 Axes>"
      ]
     },
     "metadata": {
      "needs_background": "light"
     },
     "output_type": "display_data"
    },
    {
     "name": "stdout",
     "output_type": "stream",
     "text": [
      "Accuracy :  0.9956357997341604\n",
      "Recall :  0.0\n",
      "Precision :  nan\n",
      "F1 score :  nan\n"
     ]
    },
    {
     "name": "stderr",
     "output_type": "stream",
     "text": [
      "C:\\Users\\nrp\\AppData\\Local\\Temp/ipykernel_24524/546963598.py:23: RuntimeWarning: invalid value encountered in longlong_scalars\n",
      "  precision = (cm[1][1]/(cm[1][1]+cm[1][0]))\n"
     ]
    }
   ],
   "source": [
    "performance(conf_mat(y_true_comp4 , y_pred_classes_comp4 , 'composant n°4'))"
   ]
  },
  {
   "cell_type": "code",
   "execution_count": 27,
   "metadata": {
    "executionInfo": {
     "elapsed": 6,
     "status": "ok",
     "timestamp": 1658206169834,
     "user": {
      "displayName": "Nitin Pathak",
      "userId": "10038392480058271538"
     },
     "user_tz": 420
    },
    "id": "f6LEXcNdVST9"
   },
   "outputs": [],
   "source": [
    "def prob_failure(machine_id , comp):\n",
    "    machine_df=test[test.machineID==machine_id]\n",
    "    machine_test=gen_sequence(machine_df,day,seq_cols)\n",
    "    m_pred=model.predict(machine_test)\n",
    "    failure_prob=list(m_pred[comp][-1]*100)[0]\n",
    "    print('the probability of failure of comp number ' , comp+1 ,'corresponding to machine number ' ,machine_id ,' is : ' , failure_prob)"
   ]
  },
  {
   "cell_type": "code",
   "execution_count": 36,
   "metadata": {
    "colab": {
     "base_uri": "https://localhost:8080/"
    },
    "executionInfo": {
     "elapsed": 157,
     "status": "ok",
     "timestamp": 1658206169986,
     "user": {
      "displayName": "Nitin Pathak",
      "userId": "10038392480058271538"
     },
     "user_tz": 420
    },
    "id": "nsvkSqeNM8v3",
    "outputId": "e8fcb52a-c97f-469d-ce89-1ec1aa2bf1bf"
   },
   "outputs": [
    {
     "name": "stdout",
     "output_type": "stream",
     "text": [
      "the probability of failure of comp number  1 corresponding to machine number  80  is :  1.8128365\n"
     ]
    }
   ],
   "source": [
    "# Pass machine id and component id\n",
    "prob_failure(80,0)"
   ]
  },
  {
   "cell_type": "code",
   "execution_count": 38,
   "metadata": {
    "colab": {
     "base_uri": "https://localhost:8080/"
    },
    "executionInfo": {
     "elapsed": 1089,
     "status": "ok",
     "timestamp": 1658206171236,
     "user": {
      "displayName": "Nitin Pathak",
      "userId": "10038392480058271538"
     },
     "user_tz": 420
    },
    "id": "IJG-AdQPMoP1",
    "outputId": "c6d3bf2f-daf6-4005-c5bb-3d25fa3053de"
   },
   "outputs": [
    {
     "name": "stdout",
     "output_type": "stream",
     "text": [
      "Saved model to disk\n"
     ]
    }
   ],
   "source": [
    "# serialize model to JSON\n",
    "model_json = model.to_json()\n",
    "with open(\"data/model/predictive_maint.json\", \"w\") as json_file:\n",
    "    json_file.write(model_json)\n",
    "# serialize weights to storage\n",
    "model.save_weights(\"data/model/predictive_maint.h5\")\n",
    "print(\"Saved model to disk\")"
   ]
  },
  {
   "cell_type": "code",
   "execution_count": 39,
   "metadata": {
    "colab": {
     "base_uri": "https://localhost:8080/"
    },
    "executionInfo": {
     "elapsed": 1568,
     "status": "ok",
     "timestamp": 1658206172800,
     "user": {
      "displayName": "Nitin Pathak",
      "userId": "10038392480058271538"
     },
     "user_tz": 420
    },
    "id": "gTjXZUWvMw-h",
    "outputId": "711d17a0-a278-453a-8c89-eeb7700a4e43"
   },
   "outputs": [
    {
     "name": "stdout",
     "output_type": "stream",
     "text": [
      "Loaded model from disk\n"
     ]
    }
   ],
   "source": [
    "from keras.models import model_from_json\n",
    "# later...\n",
    " \n",
    "# load json and create model\n",
    "json_file = open('data/model/model.json', 'r')\n",
    "loaded_model_json = json_file.read()\n",
    "json_file.close()\n",
    "loaded_model = model_from_json(loaded_model_json)\n",
    "# load weights into new model\n",
    "loaded_model.load_weights(\"data/model/predictive_maint.h5\")\n",
    "print(\"Loaded model from disk\")"
   ]
  }
 ],
 "metadata": {
  "accelerator": "GPU",
  "colab": {
   "collapsed_sections": [],
   "name": "Predictive_maintenance_component_failure.ipynb",
   "provenance": []
  },
  "kernelspec": {
   "display_name": "Python 3 (ipykernel)",
   "language": "python",
   "name": "python3"
  },
  "language_info": {
   "codemirror_mode": {
    "name": "ipython",
    "version": 3
   },
   "file_extension": ".py",
   "mimetype": "text/x-python",
   "name": "python",
   "nbconvert_exporter": "python",
   "pygments_lexer": "ipython3",
   "version": "3.9.7"
  }
 },
 "nbformat": 4,
 "nbformat_minor": 1
}
